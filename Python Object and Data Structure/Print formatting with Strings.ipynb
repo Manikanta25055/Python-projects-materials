{
 "cells": [
  {
   "cell_type": "code",
   "execution_count": 4,
   "metadata": {},
   "outputs": [
    {
     "name": "stdout",
     "output_type": "stream",
     "text": [
      " I am a good boy.\n"
     ]
    }
   ],
   "source": [
    "# %s\n",
    "print(\" I am a %s boy.\"%('good'))"
   ]
  },
  {
   "cell_type": "code",
   "execution_count": 5,
   "metadata": {},
   "outputs": [
    {
     "name": "stdout",
     "output_type": "stream",
     "text": [
      "I am a good boy and, i like Games.\n"
     ]
    }
   ],
   "source": [
    "# double of %s\n",
    "print('I am a %s boy and, i like %s.'%('good','Games'))"
   ]
  },
  {
   "cell_type": "code",
   "execution_count": 7,
   "metadata": {},
   "outputs": [],
   "source": [
    "# %r \n",
    "boy = 'fool'"
   ]
  },
  {
   "cell_type": "code",
   "execution_count": 8,
   "metadata": {},
   "outputs": [
    {
     "data": {
      "text/plain": [
       "\"'fool'\""
      ]
     },
     "execution_count": 8,
     "metadata": {},
     "output_type": "execute_result"
    }
   ],
   "source": [
    "repr(boy)"
   ]
  },
  {
   "cell_type": "code",
   "execution_count": 9,
   "metadata": {},
   "outputs": [
    {
     "name": "stdout",
     "output_type": "stream",
     "text": [
      "I got 98.99 point in my exam\n",
      "I got 98 point in my exam\n"
     ]
    }
   ],
   "source": [
    " # %d and %s\n",
    "print('I got %s point in my exam'%(98.99))\n",
    "print('I got %d point in my exam'%(98.99))"
   ]
  },
  {
   "cell_type": "code",
   "execution_count": 11,
   "metadata": {},
   "outputs": [
    {
     "name": "stdout",
     "output_type": "stream",
     "text": [
      "He is a good boy\n"
     ]
    }
   ],
   "source": [
    "#.format \n",
    "print('{}'.format('He is a good boy'))"
   ]
  },
  {
   "cell_type": "code",
   "execution_count": 13,
   "metadata": {},
   "outputs": [
    {
     "name": "stdout",
     "output_type": "stream",
     "text": [
      "The brown cunning quick fox.\n"
     ]
    }
   ],
   "source": [
    "#indexing\n",
    "print('The {0} {2} {1} fox.'.format('brown','quick','cunning'))"
   ]
  },
  {
   "cell_type": "code",
   "execution_count": 14,
   "metadata": {},
   "outputs": [
    {
     "name": "stdout",
     "output_type": "stream",
     "text": [
      "he is a good boy\n"
     ]
    }
   ],
   "source": [
    "# variables\n",
    "a='he'\n",
    "b='is'\n",
    "c='a good boy'\n",
    "print('{} {} {}'.format(a,b,c))"
   ]
  },
  {
   "cell_type": "code",
   "execution_count": null,
   "metadata": {},
   "outputs": [],
   "source": []
  }
 ],
 "metadata": {
  "kernelspec": {
   "display_name": "Python 3",
   "language": "python",
   "name": "python3"
  },
  "language_info": {
   "codemirror_mode": {
    "name": "ipython",
    "version": 3
   },
   "file_extension": ".py",
   "mimetype": "text/x-python",
   "name": "python",
   "nbconvert_exporter": "python",
   "pygments_lexer": "ipython3",
   "version": "3.8.3"
  }
 },
 "nbformat": 4,
 "nbformat_minor": 4
}
